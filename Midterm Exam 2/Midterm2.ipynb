{
 "cells": [
  {
   "cell_type": "code",
   "execution_count": 82,
   "id": "22b95bc4-65c1-4566-959f-f4239c8ea4ed",
   "metadata": {},
   "outputs": [],
   "source": [
    "import pandas as pd\n",
    "import pandas_profiling as pp\n",
    "import numpy as np\n",
    "import matplotlib.pyplot as plt\n",
    "import seaborn as sns"
   ]
  },
  {
   "cell_type": "code",
   "execution_count": 60,
   "id": "32d104ff-2945-43ab-909e-a9f25ab5d22c",
   "metadata": {},
   "outputs": [
    {
     "data": {
      "text/html": [
       "<div>\n",
       "<style scoped>\n",
       "    .dataframe tbody tr th:only-of-type {\n",
       "        vertical-align: middle;\n",
       "    }\n",
       "\n",
       "    .dataframe tbody tr th {\n",
       "        vertical-align: top;\n",
       "    }\n",
       "\n",
       "    .dataframe thead th {\n",
       "        text-align: right;\n",
       "    }\n",
       "</style>\n",
       "<table border=\"1\" class=\"dataframe\">\n",
       "  <thead>\n",
       "    <tr style=\"text-align: right;\">\n",
       "      <th></th>\n",
       "      <th>response</th>\n",
       "      <th>feat.a</th>\n",
       "      <th>feat.b</th>\n",
       "      <th>feat.c</th>\n",
       "      <th>feat.d</th>\n",
       "      <th>feat.e</th>\n",
       "      <th>feat.f</th>\n",
       "      <th>feat.g</th>\n",
       "      <th>feat.h</th>\n",
       "      <th>feat.i</th>\n",
       "    </tr>\n",
       "  </thead>\n",
       "  <tbody>\n",
       "    <tr>\n",
       "      <th>0</th>\n",
       "      <td>1</td>\n",
       "      <td>-0.681427</td>\n",
       "      <td>-5.493698</td>\n",
       "      <td>b</td>\n",
       "      <td>0.0</td>\n",
       "      <td>-0.800615</td>\n",
       "      <td>-4.427602</td>\n",
       "      <td>z</td>\n",
       "      <td>10.254199</td>\n",
       "      <td>-0.828073</td>\n",
       "    </tr>\n",
       "    <tr>\n",
       "      <th>1</th>\n",
       "      <td>1</td>\n",
       "      <td>0.309468</td>\n",
       "      <td>-5.559933</td>\n",
       "      <td>d</td>\n",
       "      <td>1.0</td>\n",
       "      <td>-1.155514</td>\n",
       "      <td>-0.799094</td>\n",
       "      <td>x</td>\n",
       "      <td>9.084749</td>\n",
       "      <td>-1.109698</td>\n",
       "    </tr>\n",
       "    <tr>\n",
       "      <th>2</th>\n",
       "      <td>1</td>\n",
       "      <td>5.676125</td>\n",
       "      <td>-4.026970</td>\n",
       "      <td>b</td>\n",
       "      <td>1.0</td>\n",
       "      <td>-3.396331</td>\n",
       "      <td>-0.631966</td>\n",
       "      <td>y</td>\n",
       "      <td>8.753848</td>\n",
       "      <td>-3.417417</td>\n",
       "    </tr>\n",
       "    <tr>\n",
       "      <th>3</th>\n",
       "      <td>1</td>\n",
       "      <td>1.211525</td>\n",
       "      <td>-4.198263</td>\n",
       "      <td>a</td>\n",
       "      <td>1.0</td>\n",
       "      <td>-1.894569</td>\n",
       "      <td>-16.273262</td>\n",
       "      <td>y</td>\n",
       "      <td>12.191295</td>\n",
       "      <td>-1.904801</td>\n",
       "    </tr>\n",
       "    <tr>\n",
       "      <th>4</th>\n",
       "      <td>1</td>\n",
       "      <td>1.387863</td>\n",
       "      <td>-7.824014</td>\n",
       "      <td>c</td>\n",
       "      <td>1.0</td>\n",
       "      <td>4.696980</td>\n",
       "      <td>-22.208877</td>\n",
       "      <td>z</td>\n",
       "      <td>9.626686</td>\n",
       "      <td>4.715903</td>\n",
       "    </tr>\n",
       "  </tbody>\n",
       "</table>\n",
       "</div>"
      ],
      "text/plain": [
       "   response    feat.a    feat.b feat.c  feat.d    feat.e     feat.f feat.g  \\\n",
       "0         1 -0.681427 -5.493698      b     0.0 -0.800615  -4.427602      z   \n",
       "1         1  0.309468 -5.559933      d     1.0 -1.155514  -0.799094      x   \n",
       "2         1  5.676125 -4.026970      b     1.0 -3.396331  -0.631966      y   \n",
       "3         1  1.211525 -4.198263      a     1.0 -1.894569 -16.273262      y   \n",
       "4         1  1.387863 -7.824014      c     1.0  4.696980 -22.208877      z   \n",
       "\n",
       "      feat.h    feat.i  \n",
       "0  10.254199 -0.828073  \n",
       "1   9.084749 -1.109698  \n",
       "2   8.753848 -3.417417  \n",
       "3  12.191295 -1.904801  \n",
       "4   9.626686  4.715903  "
      ]
     },
     "execution_count": 60,
     "metadata": {},
     "output_type": "execute_result"
    }
   ],
   "source": [
    "df = pd.read_csv(\"midterm_data_2.csv\")\n",
    "df = df.drop(\"row\", axis = 1)\n",
    "df.head()"
   ]
  },
  {
   "cell_type": "code",
   "execution_count": 3,
   "id": "d8b42952-bb2f-4323-94da-7094ea4ab9c3",
   "metadata": {},
   "outputs": [
    {
     "data": {
      "application/vnd.jupyter.widget-view+json": {
       "model_id": "40a122d163084af6b8b75caccabcab99",
       "version_major": 2,
       "version_minor": 0
      },
      "text/plain": [
       "Summarize dataset:   0%|          | 0/5 [00:00<?, ?it/s]"
      ]
     },
     "metadata": {},
     "output_type": "display_data"
    },
    {
     "data": {
      "application/vnd.jupyter.widget-view+json": {
       "model_id": "a5f47a814b4d40b7a3a214b6a7369ea2",
       "version_major": 2,
       "version_minor": 0
      },
      "text/plain": [
       "Generate report structure:   0%|          | 0/1 [00:00<?, ?it/s]"
      ]
     },
     "metadata": {},
     "output_type": "display_data"
    },
    {
     "data": {
      "application/vnd.jupyter.widget-view+json": {
       "model_id": "ba63128b1e7148ff984b5b2bfc308dde",
       "version_major": 2,
       "version_minor": 0
      },
      "text/plain": [
       "Render HTML:   0%|          | 0/1 [00:00<?, ?it/s]"
      ]
     },
     "metadata": {},
     "output_type": "display_data"
    },
    {
     "data": {
      "application/vnd.jupyter.widget-view+json": {
       "model_id": "bc36ebae42ed499fa8131e241c66d39f",
       "version_major": 2,
       "version_minor": 0
      },
      "text/plain": [
       "Export report to file:   0%|          | 0/1 [00:00<?, ?it/s]"
      ]
     },
     "metadata": {},
     "output_type": "display_data"
    }
   ],
   "source": [
    "eda = pp.ProfileReport(df)\n",
    "eda.to_file(\"midterm2_initial.html\")"
   ]
  },
  {
   "cell_type": "code",
   "execution_count": 61,
   "id": "b529eec1-ea48-42d8-bf3d-dd8b1625c389",
   "metadata": {},
   "outputs": [
    {
     "name": "stderr",
     "output_type": "stream",
     "text": [
      "C:\\Users\\matth\\AppData\\Local\\Temp/ipykernel_11976/3493596106.py:1: FutureWarning: Dropping of nuisance columns in DataFrame reductions (with 'numeric_only=None') is deprecated; in a future version this will raise TypeError.  Select only valid columns before calling the reduction.\n",
      "  df = df.fillna(df.median())\n"
     ]
    }
   ],
   "source": [
    "df = df.fillna(df.median())"
   ]
  },
  {
   "cell_type": "code",
   "execution_count": 62,
   "id": "474dd085-c254-484e-b315-e61b9d4a7902",
   "metadata": {},
   "outputs": [],
   "source": [
    "df = pd.get_dummies(df)"
   ]
  },
  {
   "cell_type": "code",
   "execution_count": 63,
   "id": "b9f1430b-7289-4890-b86e-eb8810a0387b",
   "metadata": {},
   "outputs": [],
   "source": [
    "df[\"response\"] = df[\"response\"].astype(\"category\")"
   ]
  },
  {
   "cell_type": "code",
   "execution_count": 7,
   "id": "8328ebcd-4261-4dc9-b5e1-687d465ea223",
   "metadata": {},
   "outputs": [
    {
     "data": {
      "application/vnd.jupyter.widget-view+json": {
       "model_id": "bff7ccb9daee44faadf5e06a932b460b",
       "version_major": 2,
       "version_minor": 0
      },
      "text/plain": [
       "Summarize dataset:   0%|          | 0/5 [00:00<?, ?it/s]"
      ]
     },
     "metadata": {},
     "output_type": "display_data"
    },
    {
     "data": {
      "application/vnd.jupyter.widget-view+json": {
       "model_id": "153552ce112748a3958aec021e3e9e95",
       "version_major": 2,
       "version_minor": 0
      },
      "text/plain": [
       "Generate report structure:   0%|          | 0/1 [00:00<?, ?it/s]"
      ]
     },
     "metadata": {},
     "output_type": "display_data"
    },
    {
     "data": {
      "application/vnd.jupyter.widget-view+json": {
       "model_id": "510e0ea6845b4955915279b2fc439d63",
       "version_major": 2,
       "version_minor": 0
      },
      "text/plain": [
       "Render HTML:   0%|          | 0/1 [00:00<?, ?it/s]"
      ]
     },
     "metadata": {},
     "output_type": "display_data"
    },
    {
     "data": {
      "application/vnd.jupyter.widget-view+json": {
       "model_id": "f6c7b59063754c42a28d64e3da496490",
       "version_major": 2,
       "version_minor": 0
      },
      "text/plain": [
       "Export report to file:   0%|          | 0/1 [00:00<?, ?it/s]"
      ]
     },
     "metadata": {},
     "output_type": "display_data"
    }
   ],
   "source": [
    "eda = pp.ProfileReport(df)\n",
    "eda.to_file(\"midterm2_processed.html\")"
   ]
  },
  {
   "cell_type": "code",
   "execution_count": 64,
   "id": "b5be178d-efbb-4b4c-8836-495f39a8470c",
   "metadata": {},
   "outputs": [],
   "source": [
    "from sklearn.model_selection import train_test_split"
   ]
  },
  {
   "cell_type": "code",
   "execution_count": 65,
   "id": "32eb849e-ff1f-4f6f-9d16-5757a00b2c12",
   "metadata": {},
   "outputs": [],
   "source": [
    "X = df.iloc[:,1:]\n",
    "y = df.iloc[:,:1]"
   ]
  },
  {
   "cell_type": "code",
   "execution_count": 66,
   "id": "5f3fabf3-13f0-42d9-a78b-e53c1dc17809",
   "metadata": {},
   "outputs": [],
   "source": [
    "X_train, X_test, y_train, y_test = train_test_split(X,y, test_size=0.25, random_state=101)"
   ]
  },
  {
   "cell_type": "code",
   "execution_count": 67,
   "id": "b20894ca-5392-4980-811f-95ba8a50bf98",
   "metadata": {},
   "outputs": [
    {
     "data": {
      "text/html": [
       "<div>\n",
       "<style scoped>\n",
       "    .dataframe tbody tr th:only-of-type {\n",
       "        vertical-align: middle;\n",
       "    }\n",
       "\n",
       "    .dataframe tbody tr th {\n",
       "        vertical-align: top;\n",
       "    }\n",
       "\n",
       "    .dataframe thead th {\n",
       "        text-align: right;\n",
       "    }\n",
       "</style>\n",
       "<table border=\"1\" class=\"dataframe\">\n",
       "  <thead>\n",
       "    <tr style=\"text-align: right;\">\n",
       "      <th></th>\n",
       "      <th>feat.a</th>\n",
       "      <th>feat.b</th>\n",
       "      <th>feat.d</th>\n",
       "      <th>feat.e</th>\n",
       "      <th>feat.f</th>\n",
       "      <th>feat.h</th>\n",
       "      <th>feat.i</th>\n",
       "      <th>feat.c_a</th>\n",
       "      <th>feat.c_b</th>\n",
       "      <th>feat.c_c</th>\n",
       "      <th>feat.c_d</th>\n",
       "      <th>feat.g_x</th>\n",
       "      <th>feat.g_y</th>\n",
       "      <th>feat.g_z</th>\n",
       "    </tr>\n",
       "  </thead>\n",
       "  <tbody>\n",
       "    <tr>\n",
       "      <th>968</th>\n",
       "      <td>0.767383</td>\n",
       "      <td>-5.152486</td>\n",
       "      <td>1.0</td>\n",
       "      <td>4.698983</td>\n",
       "      <td>3.782216</td>\n",
       "      <td>8.833376</td>\n",
       "      <td>4.646257</td>\n",
       "      <td>0</td>\n",
       "      <td>0</td>\n",
       "      <td>1</td>\n",
       "      <td>0</td>\n",
       "      <td>0</td>\n",
       "      <td>1</td>\n",
       "      <td>0</td>\n",
       "    </tr>\n",
       "    <tr>\n",
       "      <th>205</th>\n",
       "      <td>-0.428741</td>\n",
       "      <td>-2.355008</td>\n",
       "      <td>1.0</td>\n",
       "      <td>0.302588</td>\n",
       "      <td>-8.706767</td>\n",
       "      <td>12.470171</td>\n",
       "      <td>0.243201</td>\n",
       "      <td>0</td>\n",
       "      <td>1</td>\n",
       "      <td>0</td>\n",
       "      <td>0</td>\n",
       "      <td>0</td>\n",
       "      <td>0</td>\n",
       "      <td>1</td>\n",
       "    </tr>\n",
       "    <tr>\n",
       "      <th>231</th>\n",
       "      <td>0.729041</td>\n",
       "      <td>-1.069498</td>\n",
       "      <td>1.0</td>\n",
       "      <td>1.836253</td>\n",
       "      <td>-5.205855</td>\n",
       "      <td>12.177760</td>\n",
       "      <td>1.863613</td>\n",
       "      <td>0</td>\n",
       "      <td>0</td>\n",
       "      <td>0</td>\n",
       "      <td>1</td>\n",
       "      <td>0</td>\n",
       "      <td>0</td>\n",
       "      <td>1</td>\n",
       "    </tr>\n",
       "    <tr>\n",
       "      <th>147</th>\n",
       "      <td>3.063750</td>\n",
       "      <td>-2.204384</td>\n",
       "      <td>1.0</td>\n",
       "      <td>-0.393614</td>\n",
       "      <td>-12.184535</td>\n",
       "      <td>10.133663</td>\n",
       "      <td>-0.489800</td>\n",
       "      <td>0</td>\n",
       "      <td>1</td>\n",
       "      <td>0</td>\n",
       "      <td>0</td>\n",
       "      <td>0</td>\n",
       "      <td>1</td>\n",
       "      <td>0</td>\n",
       "    </tr>\n",
       "    <tr>\n",
       "      <th>531</th>\n",
       "      <td>-0.519001</td>\n",
       "      <td>-3.360978</td>\n",
       "      <td>1.0</td>\n",
       "      <td>-1.025356</td>\n",
       "      <td>-21.881031</td>\n",
       "      <td>7.331405</td>\n",
       "      <td>-1.074075</td>\n",
       "      <td>1</td>\n",
       "      <td>0</td>\n",
       "      <td>0</td>\n",
       "      <td>0</td>\n",
       "      <td>0</td>\n",
       "      <td>1</td>\n",
       "      <td>0</td>\n",
       "    </tr>\n",
       "    <tr>\n",
       "      <th>...</th>\n",
       "      <td>...</td>\n",
       "      <td>...</td>\n",
       "      <td>...</td>\n",
       "      <td>...</td>\n",
       "      <td>...</td>\n",
       "      <td>...</td>\n",
       "      <td>...</td>\n",
       "      <td>...</td>\n",
       "      <td>...</td>\n",
       "      <td>...</td>\n",
       "      <td>...</td>\n",
       "      <td>...</td>\n",
       "      <td>...</td>\n",
       "      <td>...</td>\n",
       "    </tr>\n",
       "    <tr>\n",
       "      <th>575</th>\n",
       "      <td>5.110012</td>\n",
       "      <td>-2.770558</td>\n",
       "      <td>1.0</td>\n",
       "      <td>2.938986</td>\n",
       "      <td>-15.433695</td>\n",
       "      <td>10.117951</td>\n",
       "      <td>2.873882</td>\n",
       "      <td>0</td>\n",
       "      <td>1</td>\n",
       "      <td>0</td>\n",
       "      <td>0</td>\n",
       "      <td>0</td>\n",
       "      <td>1</td>\n",
       "      <td>0</td>\n",
       "    </tr>\n",
       "    <tr>\n",
       "      <th>838</th>\n",
       "      <td>1.168645</td>\n",
       "      <td>-1.901514</td>\n",
       "      <td>0.0</td>\n",
       "      <td>0.203994</td>\n",
       "      <td>-7.300704</td>\n",
       "      <td>8.540716</td>\n",
       "      <td>0.124096</td>\n",
       "      <td>0</td>\n",
       "      <td>1</td>\n",
       "      <td>0</td>\n",
       "      <td>0</td>\n",
       "      <td>0</td>\n",
       "      <td>1</td>\n",
       "      <td>0</td>\n",
       "    </tr>\n",
       "    <tr>\n",
       "      <th>337</th>\n",
       "      <td>0.397657</td>\n",
       "      <td>-6.165239</td>\n",
       "      <td>1.0</td>\n",
       "      <td>-1.516048</td>\n",
       "      <td>-10.910291</td>\n",
       "      <td>10.687109</td>\n",
       "      <td>-1.510253</td>\n",
       "      <td>0</td>\n",
       "      <td>0</td>\n",
       "      <td>1</td>\n",
       "      <td>0</td>\n",
       "      <td>0</td>\n",
       "      <td>0</td>\n",
       "      <td>1</td>\n",
       "    </tr>\n",
       "    <tr>\n",
       "      <th>523</th>\n",
       "      <td>0.172164</td>\n",
       "      <td>-4.473905</td>\n",
       "      <td>0.0</td>\n",
       "      <td>2.133786</td>\n",
       "      <td>-13.002548</td>\n",
       "      <td>8.696168</td>\n",
       "      <td>2.103452</td>\n",
       "      <td>0</td>\n",
       "      <td>0</td>\n",
       "      <td>0</td>\n",
       "      <td>1</td>\n",
       "      <td>0</td>\n",
       "      <td>1</td>\n",
       "      <td>0</td>\n",
       "    </tr>\n",
       "    <tr>\n",
       "      <th>863</th>\n",
       "      <td>-1.598113</td>\n",
       "      <td>-4.302695</td>\n",
       "      <td>0.0</td>\n",
       "      <td>-4.397054</td>\n",
       "      <td>-2.040715</td>\n",
       "      <td>11.784249</td>\n",
       "      <td>-4.426607</td>\n",
       "      <td>0</td>\n",
       "      <td>0</td>\n",
       "      <td>1</td>\n",
       "      <td>0</td>\n",
       "      <td>1</td>\n",
       "      <td>0</td>\n",
       "      <td>0</td>\n",
       "    </tr>\n",
       "  </tbody>\n",
       "</table>\n",
       "<p>750 rows × 14 columns</p>\n",
       "</div>"
      ],
      "text/plain": [
       "       feat.a    feat.b  feat.d    feat.e     feat.f     feat.h    feat.i  \\\n",
       "968  0.767383 -5.152486     1.0  4.698983   3.782216   8.833376  4.646257   \n",
       "205 -0.428741 -2.355008     1.0  0.302588  -8.706767  12.470171  0.243201   \n",
       "231  0.729041 -1.069498     1.0  1.836253  -5.205855  12.177760  1.863613   \n",
       "147  3.063750 -2.204384     1.0 -0.393614 -12.184535  10.133663 -0.489800   \n",
       "531 -0.519001 -3.360978     1.0 -1.025356 -21.881031   7.331405 -1.074075   \n",
       "..        ...       ...     ...       ...        ...        ...       ...   \n",
       "575  5.110012 -2.770558     1.0  2.938986 -15.433695  10.117951  2.873882   \n",
       "838  1.168645 -1.901514     0.0  0.203994  -7.300704   8.540716  0.124096   \n",
       "337  0.397657 -6.165239     1.0 -1.516048 -10.910291  10.687109 -1.510253   \n",
       "523  0.172164 -4.473905     0.0  2.133786 -13.002548   8.696168  2.103452   \n",
       "863 -1.598113 -4.302695     0.0 -4.397054  -2.040715  11.784249 -4.426607   \n",
       "\n",
       "     feat.c_a  feat.c_b  feat.c_c  feat.c_d  feat.g_x  feat.g_y  feat.g_z  \n",
       "968         0         0         1         0         0         1         0  \n",
       "205         0         1         0         0         0         0         1  \n",
       "231         0         0         0         1         0         0         1  \n",
       "147         0         1         0         0         0         1         0  \n",
       "531         1         0         0         0         0         1         0  \n",
       "..        ...       ...       ...       ...       ...       ...       ...  \n",
       "575         0         1         0         0         0         1         0  \n",
       "838         0         1         0         0         0         1         0  \n",
       "337         0         0         1         0         0         0         1  \n",
       "523         0         0         0         1         0         1         0  \n",
       "863         0         0         1         0         1         0         0  \n",
       "\n",
       "[750 rows x 14 columns]"
      ]
     },
     "execution_count": 67,
     "metadata": {},
     "output_type": "execute_result"
    }
   ],
   "source": [
    "X_train"
   ]
  },
  {
   "cell_type": "code",
   "execution_count": 68,
   "id": "61be499d-9c4c-48a2-b0a6-b28cbb970bd4",
   "metadata": {},
   "outputs": [],
   "source": [
    "import statsmodels.api as sm\n",
    "import statsmodels.formula.api as smf\n",
    "\n",
    "mod = sm.GLM(y_train, sm.add_constant(X_train), family=sm.families.Binomial()).fit()"
   ]
  },
  {
   "cell_type": "code",
   "execution_count": 69,
   "id": "0b577b01-cd5d-495b-ab63-134941f93406",
   "metadata": {},
   "outputs": [
    {
     "data": {
      "text/html": [
       "<table class=\"simpletable\">\n",
       "<caption>Generalized Linear Model Regression Results</caption>\n",
       "<tr>\n",
       "  <th>Dep. Variable:</th>       <td>response</td>     <th>  No. Observations:  </th>  <td>   750</td> \n",
       "</tr>\n",
       "<tr>\n",
       "  <th>Model:</th>                  <td>GLM</td>       <th>  Df Residuals:      </th>  <td>   737</td> \n",
       "</tr>\n",
       "<tr>\n",
       "  <th>Model Family:</th>        <td>Binomial</td>     <th>  Df Model:          </th>  <td>    12</td> \n",
       "</tr>\n",
       "<tr>\n",
       "  <th>Link Function:</th>         <td>Logit</td>      <th>  Scale:             </th> <td>  1.0000</td>\n",
       "</tr>\n",
       "<tr>\n",
       "  <th>Method:</th>                <td>IRLS</td>       <th>  Log-Likelihood:    </th> <td> -268.57</td>\n",
       "</tr>\n",
       "<tr>\n",
       "  <th>Date:</th>            <td>Tue, 22 Nov 2022</td> <th>  Deviance:          </th> <td>  537.14</td>\n",
       "</tr>\n",
       "<tr>\n",
       "  <th>Time:</th>                <td>18:47:14</td>     <th>  Pearson chi2:      </th> <td>9.53e+03</td>\n",
       "</tr>\n",
       "<tr>\n",
       "  <th>No. Iterations:</th>          <td>6</td>        <th>  Pseudo R-squ. (CS):</th>  <td>0.4836</td> \n",
       "</tr>\n",
       "<tr>\n",
       "  <th>Covariance Type:</th>     <td>nonrobust</td>    <th>                     </th>     <td> </td>   \n",
       "</tr>\n",
       "</table>\n",
       "<table class=\"simpletable\">\n",
       "<tr>\n",
       "      <td></td>        <th>coef</th>     <th>std err</th>      <th>z</th>      <th>P>|z|</th>  <th>[0.025</th>    <th>0.975]</th>  \n",
       "</tr>\n",
       "<tr>\n",
       "  <th>const</th>    <td>    1.8430</td> <td>    0.429</td> <td>    4.292</td> <td> 0.000</td> <td>    1.001</td> <td>    2.685</td>\n",
       "</tr>\n",
       "<tr>\n",
       "  <th>feat.a</th>   <td>    0.0050</td> <td>    0.037</td> <td>    0.136</td> <td> 0.892</td> <td>   -0.067</td> <td>    0.077</td>\n",
       "</tr>\n",
       "<tr>\n",
       "  <th>feat.b</th>   <td>   -0.0584</td> <td>    0.074</td> <td>   -0.790</td> <td> 0.430</td> <td>   -0.203</td> <td>    0.087</td>\n",
       "</tr>\n",
       "<tr>\n",
       "  <th>feat.d</th>   <td>    0.6477</td> <td>    0.220</td> <td>    2.941</td> <td> 0.003</td> <td>    0.216</td> <td>    1.079</td>\n",
       "</tr>\n",
       "<tr>\n",
       "  <th>feat.e</th>   <td>   -4.7070</td> <td>    2.958</td> <td>   -1.591</td> <td> 0.112</td> <td>  -10.505</td> <td>    1.091</td>\n",
       "</tr>\n",
       "<tr>\n",
       "  <th>feat.f</th>   <td>    0.3482</td> <td>    0.026</td> <td>   13.562</td> <td> 0.000</td> <td>    0.298</td> <td>    0.398</td>\n",
       "</tr>\n",
       "<tr>\n",
       "  <th>feat.h</th>   <td>   -0.0822</td> <td>    0.055</td> <td>   -1.490</td> <td> 0.136</td> <td>   -0.190</td> <td>    0.026</td>\n",
       "</tr>\n",
       "<tr>\n",
       "  <th>feat.i</th>   <td>    4.7236</td> <td>    2.960</td> <td>    1.596</td> <td> 0.111</td> <td>   -1.078</td> <td>   10.526</td>\n",
       "</tr>\n",
       "<tr>\n",
       "  <th>feat.c_a</th> <td>    0.6930</td> <td>    0.222</td> <td>    3.115</td> <td> 0.002</td> <td>    0.257</td> <td>    1.129</td>\n",
       "</tr>\n",
       "<tr>\n",
       "  <th>feat.c_b</th> <td>    0.3469</td> <td>    0.199</td> <td>    1.742</td> <td> 0.081</td> <td>   -0.043</td> <td>    0.737</td>\n",
       "</tr>\n",
       "<tr>\n",
       "  <th>feat.c_c</th> <td>    0.1691</td> <td>    0.230</td> <td>    0.734</td> <td> 0.463</td> <td>   -0.282</td> <td>    0.621</td>\n",
       "</tr>\n",
       "<tr>\n",
       "  <th>feat.c_d</th> <td>    0.6340</td> <td>    0.226</td> <td>    2.802</td> <td> 0.005</td> <td>    0.190</td> <td>    1.078</td>\n",
       "</tr>\n",
       "<tr>\n",
       "  <th>feat.g_x</th> <td>    1.2340</td> <td>    0.224</td> <td>    5.503</td> <td> 0.000</td> <td>    0.794</td> <td>    1.674</td>\n",
       "</tr>\n",
       "<tr>\n",
       "  <th>feat.g_y</th> <td>   -0.1905</td> <td>    0.196</td> <td>   -0.970</td> <td> 0.332</td> <td>   -0.575</td> <td>    0.194</td>\n",
       "</tr>\n",
       "<tr>\n",
       "  <th>feat.g_z</th> <td>    0.7995</td> <td>    0.221</td> <td>    3.623</td> <td> 0.000</td> <td>    0.367</td> <td>    1.232</td>\n",
       "</tr>\n",
       "</table>"
      ],
      "text/plain": [
       "<class 'statsmodels.iolib.summary.Summary'>\n",
       "\"\"\"\n",
       "                 Generalized Linear Model Regression Results                  \n",
       "==============================================================================\n",
       "Dep. Variable:               response   No. Observations:                  750\n",
       "Model:                            GLM   Df Residuals:                      737\n",
       "Model Family:                Binomial   Df Model:                           12\n",
       "Link Function:                  Logit   Scale:                          1.0000\n",
       "Method:                          IRLS   Log-Likelihood:                -268.57\n",
       "Date:                Tue, 22 Nov 2022   Deviance:                       537.14\n",
       "Time:                        18:47:14   Pearson chi2:                 9.53e+03\n",
       "No. Iterations:                     6   Pseudo R-squ. (CS):             0.4836\n",
       "Covariance Type:            nonrobust                                         \n",
       "==============================================================================\n",
       "                 coef    std err          z      P>|z|      [0.025      0.975]\n",
       "------------------------------------------------------------------------------\n",
       "const          1.8430      0.429      4.292      0.000       1.001       2.685\n",
       "feat.a         0.0050      0.037      0.136      0.892      -0.067       0.077\n",
       "feat.b        -0.0584      0.074     -0.790      0.430      -0.203       0.087\n",
       "feat.d         0.6477      0.220      2.941      0.003       0.216       1.079\n",
       "feat.e        -4.7070      2.958     -1.591      0.112     -10.505       1.091\n",
       "feat.f         0.3482      0.026     13.562      0.000       0.298       0.398\n",
       "feat.h        -0.0822      0.055     -1.490      0.136      -0.190       0.026\n",
       "feat.i         4.7236      2.960      1.596      0.111      -1.078      10.526\n",
       "feat.c_a       0.6930      0.222      3.115      0.002       0.257       1.129\n",
       "feat.c_b       0.3469      0.199      1.742      0.081      -0.043       0.737\n",
       "feat.c_c       0.1691      0.230      0.734      0.463      -0.282       0.621\n",
       "feat.c_d       0.6340      0.226      2.802      0.005       0.190       1.078\n",
       "feat.g_x       1.2340      0.224      5.503      0.000       0.794       1.674\n",
       "feat.g_y      -0.1905      0.196     -0.970      0.332      -0.575       0.194\n",
       "feat.g_z       0.7995      0.221      3.623      0.000       0.367       1.232\n",
       "==============================================================================\n",
       "\"\"\""
      ]
     },
     "execution_count": 69,
     "metadata": {},
     "output_type": "execute_result"
    }
   ],
   "source": [
    "mod.summary()"
   ]
  },
  {
   "cell_type": "code",
   "execution_count": 74,
   "id": "14693be2-675d-45aa-8b22-d3852dc6ce79",
   "metadata": {},
   "outputs": [],
   "source": [
    "import statsmodels.api as sm\n",
    "import statsmodels.formula.api as smf\n",
    "X_train_r = X_train.loc[:, ~X_train.columns.isin(['feat.a', 'feat.b', 'feat.e', 'feat.i', 'feat.h'])]\n",
    "X_test_r = X_test.loc[:, ~X_test.columns.isin(['feat.a', 'feat.b', 'feat.e', 'feat.i', 'feat.h'])]\n",
    "\n",
    "reduced_mod = sm.GLM(y_train, sm.add_constant(X_train_r), family=sm.families.Binomial()).fit()"
   ]
  },
  {
   "cell_type": "code",
   "execution_count": 75,
   "id": "b268edb0-d277-49aa-a188-47ee0e1c2969",
   "metadata": {},
   "outputs": [
    {
     "data": {
      "text/html": [
       "<table class=\"simpletable\">\n",
       "<caption>Generalized Linear Model Regression Results</caption>\n",
       "<tr>\n",
       "  <th>Dep. Variable:</th>       <td>response</td>     <th>  No. Observations:  </th>  <td>   750</td> \n",
       "</tr>\n",
       "<tr>\n",
       "  <th>Model:</th>                  <td>GLM</td>       <th>  Df Residuals:      </th>  <td>   742</td> \n",
       "</tr>\n",
       "<tr>\n",
       "  <th>Model Family:</th>        <td>Binomial</td>     <th>  Df Model:          </th>  <td>     7</td> \n",
       "</tr>\n",
       "<tr>\n",
       "  <th>Link Function:</th>         <td>Logit</td>      <th>  Scale:             </th> <td>  1.0000</td>\n",
       "</tr>\n",
       "<tr>\n",
       "  <th>Method:</th>                <td>IRLS</td>       <th>  Log-Likelihood:    </th> <td> -271.43</td>\n",
       "</tr>\n",
       "<tr>\n",
       "  <th>Date:</th>            <td>Tue, 22 Nov 2022</td> <th>  Deviance:          </th> <td>  542.86</td>\n",
       "</tr>\n",
       "<tr>\n",
       "  <th>Time:</th>                <td>18:48:07</td>     <th>  Pearson chi2:      </th> <td>1.04e+04</td>\n",
       "</tr>\n",
       "<tr>\n",
       "  <th>No. Iterations:</th>          <td>8</td>        <th>  Pseudo R-squ. (CS):</th>  <td>0.4796</td> \n",
       "</tr>\n",
       "<tr>\n",
       "  <th>Covariance Type:</th>     <td>nonrobust</td>    <th>                     </th>     <td> </td>   \n",
       "</tr>\n",
       "</table>\n",
       "<table class=\"simpletable\">\n",
       "<tr>\n",
       "      <td></td>        <th>coef</th>     <th>std err</th>      <th>z</th>      <th>P>|z|</th>  <th>[0.025</th>    <th>0.975]</th>  \n",
       "</tr>\n",
       "<tr>\n",
       "  <th>const</th>    <td>    1.4368</td> <td>    0.146</td> <td>    9.859</td> <td> 0.000</td> <td>    1.151</td> <td>    1.722</td>\n",
       "</tr>\n",
       "<tr>\n",
       "  <th>feat.d</th>   <td>    0.6650</td> <td>    0.217</td> <td>    3.060</td> <td> 0.002</td> <td>    0.239</td> <td>    1.091</td>\n",
       "</tr>\n",
       "<tr>\n",
       "  <th>feat.f</th>   <td>    0.3431</td> <td>    0.025</td> <td>   13.630</td> <td> 0.000</td> <td>    0.294</td> <td>    0.392</td>\n",
       "</tr>\n",
       "<tr>\n",
       "  <th>feat.c_a</th> <td>    0.5624</td> <td>    0.195</td> <td>    2.889</td> <td> 0.004</td> <td>    0.181</td> <td>    0.944</td>\n",
       "</tr>\n",
       "<tr>\n",
       "  <th>feat.c_b</th> <td>    0.2252</td> <td>    0.175</td> <td>    1.290</td> <td> 0.197</td> <td>   -0.117</td> <td>    0.567</td>\n",
       "</tr>\n",
       "<tr>\n",
       "  <th>feat.c_c</th> <td>    0.0668</td> <td>    0.201</td> <td>    0.333</td> <td> 0.739</td> <td>   -0.327</td> <td>    0.460</td>\n",
       "</tr>\n",
       "<tr>\n",
       "  <th>feat.c_d</th> <td>    0.5825</td> <td>    0.203</td> <td>    2.875</td> <td> 0.004</td> <td>    0.185</td> <td>    0.980</td>\n",
       "</tr>\n",
       "<tr>\n",
       "  <th>feat.g_x</th> <td>    1.1232</td> <td>    0.177</td> <td>    6.360</td> <td> 0.000</td> <td>    0.777</td> <td>    1.469</td>\n",
       "</tr>\n",
       "<tr>\n",
       "  <th>feat.g_y</th> <td>   -0.3334</td> <td>    0.155</td> <td>   -2.148</td> <td> 0.032</td> <td>   -0.638</td> <td>   -0.029</td>\n",
       "</tr>\n",
       "<tr>\n",
       "  <th>feat.g_z</th> <td>    0.6470</td> <td>    0.162</td> <td>    3.986</td> <td> 0.000</td> <td>    0.329</td> <td>    0.965</td>\n",
       "</tr>\n",
       "</table>"
      ],
      "text/plain": [
       "<class 'statsmodels.iolib.summary.Summary'>\n",
       "\"\"\"\n",
       "                 Generalized Linear Model Regression Results                  \n",
       "==============================================================================\n",
       "Dep. Variable:               response   No. Observations:                  750\n",
       "Model:                            GLM   Df Residuals:                      742\n",
       "Model Family:                Binomial   Df Model:                            7\n",
       "Link Function:                  Logit   Scale:                          1.0000\n",
       "Method:                          IRLS   Log-Likelihood:                -271.43\n",
       "Date:                Tue, 22 Nov 2022   Deviance:                       542.86\n",
       "Time:                        18:48:07   Pearson chi2:                 1.04e+04\n",
       "No. Iterations:                     8   Pseudo R-squ. (CS):             0.4796\n",
       "Covariance Type:            nonrobust                                         \n",
       "==============================================================================\n",
       "                 coef    std err          z      P>|z|      [0.025      0.975]\n",
       "------------------------------------------------------------------------------\n",
       "const          1.4368      0.146      9.859      0.000       1.151       1.722\n",
       "feat.d         0.6650      0.217      3.060      0.002       0.239       1.091\n",
       "feat.f         0.3431      0.025     13.630      0.000       0.294       0.392\n",
       "feat.c_a       0.5624      0.195      2.889      0.004       0.181       0.944\n",
       "feat.c_b       0.2252      0.175      1.290      0.197      -0.117       0.567\n",
       "feat.c_c       0.0668      0.201      0.333      0.739      -0.327       0.460\n",
       "feat.c_d       0.5825      0.203      2.875      0.004       0.185       0.980\n",
       "feat.g_x       1.1232      0.177      6.360      0.000       0.777       1.469\n",
       "feat.g_y      -0.3334      0.155     -2.148      0.032      -0.638      -0.029\n",
       "feat.g_z       0.6470      0.162      3.986      0.000       0.329       0.965\n",
       "==============================================================================\n",
       "\"\"\""
      ]
     },
     "execution_count": 75,
     "metadata": {},
     "output_type": "execute_result"
    }
   ],
   "source": [
    "reduced_mod.summary()"
   ]
  },
  {
   "cell_type": "code",
   "execution_count": 77,
   "id": "caced2c1-720a-46fe-8084-c491ea88f7f1",
   "metadata": {},
   "outputs": [],
   "source": [
    "y1 = mod.predict(sm.add_constant(X_train))\n",
    "y2 = mod.predict(sm.add_constant(X_test))\n",
    "y3 = reduced_mod.predict(sm.add_constant(X_train_r))\n",
    "y4 = reduced_mod.predict(sm.add_constant(X_test_r))"
   ]
  },
  {
   "cell_type": "code",
   "execution_count": 78,
   "id": "be7804c2-8480-4921-a865-91c7c8a547a2",
   "metadata": {},
   "outputs": [],
   "source": [
    "from sklearn import metrics"
   ]
  },
  {
   "cell_type": "code",
   "execution_count": 79,
   "id": "c98b392f-7d16-40c9-9b52-b987c25339ee",
   "metadata": {},
   "outputs": [],
   "source": [
    "fpr1, tpr1, _ = metrics.roc_curve(y_train,  y1)\n",
    "fpr2, tpr2, _ = metrics.roc_curve(y_test,  y2)\n",
    "fpr3, tpr3, _ = metrics.roc_curve(y_train,  y3)\n",
    "fpr4, tpr4, _ = metrics.roc_curve(y_test,  y4)\n",
    "auc1 = metrics.auc(fpr1, tpr1)\n",
    "auc2 = metrics.auc(fpr2, tpr2)\n",
    "auc3 = metrics.auc(fpr3, tpr3)\n",
    "auc4 = metrics.auc(fpr4, tpr4)"
   ]
  },
  {
   "cell_type": "code",
   "execution_count": 80,
   "id": "0bdbc8ec-04ef-410b-83bf-3b6aa2f0f9ea",
   "metadata": {},
   "outputs": [],
   "source": [
    "from sklearn.metrics import accuracy_score"
   ]
  },
  {
   "cell_type": "code",
   "execution_count": 83,
   "id": "1b4d8287-0230-4aae-9371-12e1769fdc33",
   "metadata": {},
   "outputs": [],
   "source": [
    "a1 = 0\n",
    "a2 = 0\n",
    "a3 = 0\n",
    "a4 = 0\n",
    "for t in np.linspace(0,1,101):\n",
    "    y_pred1 = np.where(y1>t, 1, 0)\n",
    "    if accuracy_score(y_train, y_pred1) > a1:\n",
    "        a1 = accuracy_score(y_train, y_pred1)\n",
    "for t in np.linspace(0,1,101):\n",
    "    y_pred2 = np.where(y2>t, 1, 0)\n",
    "    if accuracy_score(y_test, y_pred2) > a2:\n",
    "        a2 = accuracy_score(y_test, y_pred2)\n",
    "for t in np.linspace(0,1,101):\n",
    "    y_pred3 = np.where(y3>t, 1, 0)\n",
    "    if accuracy_score(y_train, y_pred3) > a3:\n",
    "        a3 = accuracy_score(y_train, y_pred3)\n",
    "for t in np.linspace(0,1,101):\n",
    "    y_pred4 = np.where(y4>t, 1, 0)\n",
    "    if accuracy_score(y_test, y_pred4) > a4:\n",
    "        a4 = accuracy_score(y_test, y_pred4) "
   ]
  },
  {
   "cell_type": "code",
   "execution_count": 84,
   "id": "3729cad6-511d-4b8a-9e43-5b7e143653ab",
   "metadata": {},
   "outputs": [
    {
     "data": {
      "image/png": "[encoded data removed]",
      "text/plain": [
       "<Figure size 1440x1080 with 4 Axes>"
      ]
     },
     "metadata": {
      "needs_background": "light"
     },
     "output_type": "display_data"
    }
   ],
   "source": [
    "fig, axs = plt.subplots(2, 2, figsize=(20, 15))\n",
    "fig.suptitle('ALL ROC Plots of Model')\n",
    "axs[0,0].plot(fpr1,tpr1,label=\"auc=\"+str(auc1)+\" acc =\"+str(a1))\n",
    "axs[0,0].set_title('Full Train')\n",
    "\n",
    "axs[0,1].plot(fpr2,tpr2,label=\"auc=\"+str(auc2)+\" acc =\"+str(a2))\n",
    "axs[0,1].set_title('Full Test')\n",
    "\n",
    "axs[1,0].plot(fpr3,tpr3,label=\"auc=\"+str(auc3)+\" acc =\"+str(a3))\n",
    "axs[1,0].set_title('Reduced Train')\n",
    "\n",
    "axs[1,1].plot(fpr4,tpr4,label=\"auc=\"+str(auc4)+\" acc =\"+str(a4))\n",
    "axs[1,1].set_title('Reduced Test')\n",
    "\n",
    "for ax in axs.flat:\n",
    "    ax.set(xlabel='False Positive Rate', ylabel='True Positive Rate')\n",
    "    ax.legend(loc=4)\n",
    "plt.show()"
   ]
  },
  {
   "cell_type": "code",
   "execution_count": null,
   "id": "de638f4e-5297-42a6-904e-89970a58ac6e",
   "metadata": {},
   "outputs": [],
   "source": []
  }
 ],
 "metadata": {
  "kernelspec": {
   "display_name": "Python 3 (ipykernel)",
   "language": "python",
   "name": "python3"
  },
  "language_info": {
   "codemirror_mode": {
    "name": "ipython",
    "version": 3
   },
   "file_extension": ".py",
   "mimetype": "text/x-python",
   "name": "python",
   "nbconvert_exporter": "python",
   "pygments_lexer": "ipython3",
   "version": "3.9.7"
  }
 },
 "nbformat": 4,
 "nbformat_minor": 5
}
