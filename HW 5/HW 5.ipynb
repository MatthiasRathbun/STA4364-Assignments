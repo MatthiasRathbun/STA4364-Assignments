{
 "cells": [
  {
   "cell_type": "code",
   "execution_count": 1,
   "id": "0010e7d8-3ccf-46db-bead-075b52081d50",
   "metadata": {},
   "outputs": [],
   "source": [
    "import pandas as pd\n",
    "import numpy as np\n",
    "import matplotlib.pyplot as plt\n",
    "import seaborn as sns\n",
    "from sklearn.preprocessing import StandardScaler\n",
    "from sklearn.preprocessing import PowerTransformer\n",
    "from sklearn.preprocessing import LabelEncoder\n",
    "from sklearn.model_selection import train_test_split\n",
    "from sklearn.linear_model import LogisticRegressionCV\n",
    "from sklearn.metrics import classification_report, confusion_matrix"
   ]
  },
  {
   "cell_type": "code",
   "execution_count": 2,
   "id": "e7924ab3-8fc7-4ea3-aecb-3e6ce2e7fb5d",
   "metadata": {},
   "outputs": [],
   "source": [
    "df = pd.read_csv(\"magic04.csv\")\n",
    "df = df.drop_duplicates()\n",
    "df = df.rename(columns = {\"class\":\"Class\"})\n",
    "X = df.iloc[:,:10]\n",
    "y = df.iloc[:,10:]\n",
    "Class = y.Class.unique()\n",
    "le = LabelEncoder()\n",
    "y = pd.DataFrame(le.fit_transform(np.ravel(y)), columns = y.columns)\n",
    "X_train, X_test, y_train, y_test = train_test_split(X, y, test_size = 0.20, random_state = 101)\n",
    "scaler = StandardScaler()\n",
    "scaler.fit(X_train)\n",
    "X_train = pd.DataFrame(scaler.transform(X_train), columns = X.columns)\n",
    "X_test = pd.DataFrame(scaler.transform(X_test), columns = X.columns)\n",
    "pt = PowerTransformer(method = \"yeo-johnson\")\n",
    "pt.fit(X_train)\n",
    "X_train = pd.DataFrame(pt.transform(X_train), columns = X.columns)\n",
    "X_test = pd.DataFrame(pt.transform(X_test), columns = X.columns)"
   ]
  },
  {
   "cell_type": "markdown",
   "id": "45529187-5303-4593-ba38-ede4674daa28",
   "metadata": {},
   "source": [
    "# Logistic Regression"
   ]
  },
  {
   "cell_type": "code",
   "execution_count": 3,
   "id": "bec1e1bc-4c69-4a84-a7f3-fb652787ec46",
   "metadata": {},
   "outputs": [],
   "source": [
    "Logit = LogisticRegressionCV(cv=10, scoring='accuracy', n_jobs=-1, max_iter = 100)\n",
    "Logit.fit(X_train, np.ravel(y_train))\n",
    "y_pred = Logit.predict(X_test)"
   ]
  },
  {
   "cell_type": "code",
   "execution_count": 4,
   "id": "a22657bb-a116-423e-afa0-64a3d12b5db4",
   "metadata": {},
   "outputs": [
    {
     "data": {
      "text/html": [
       "<div>\n",
       "<style scoped>\n",
       "    .dataframe tbody tr th:only-of-type {\n",
       "        vertical-align: middle;\n",
       "    }\n",
       "\n",
       "    .dataframe tbody tr th {\n",
       "        vertical-align: top;\n",
       "    }\n",
       "\n",
       "    .dataframe thead th {\n",
       "        text-align: right;\n",
       "    }\n",
       "</style>\n",
       "<table border=\"1\" class=\"dataframe\">\n",
       "  <thead>\n",
       "    <tr style=\"text-align: right;\">\n",
       "      <th></th>\n",
       "      <th>fLength</th>\n",
       "      <th>fWidth</th>\n",
       "      <th>fSize</th>\n",
       "      <th>fConc</th>\n",
       "      <th>fConc1</th>\n",
       "      <th>fAsym</th>\n",
       "      <th>fM3Long</th>\n",
       "      <th>fM3Trans</th>\n",
       "      <th>fAlpha</th>\n",
       "      <th>fDist</th>\n",
       "    </tr>\n",
       "  </thead>\n",
       "  <tbody>\n",
       "    <tr>\n",
       "      <th>0</th>\n",
       "      <td>1.383869</td>\n",
       "      <td>-0.189867</td>\n",
       "      <td>1.455469</td>\n",
       "      <td>1.421105</td>\n",
       "      <td>0.218006</td>\n",
       "      <td>-0.049338</td>\n",
       "      <td>-0.292599</td>\n",
       "      <td>-0.018409</td>\n",
       "      <td>1.586697</td>\n",
       "      <td>0.037657</td>\n",
       "    </tr>\n",
       "  </tbody>\n",
       "</table>\n",
       "</div>"
      ],
      "text/plain": [
       "    fLength    fWidth     fSize     fConc    fConc1     fAsym   fM3Long  \\\n",
       "0  1.383869 -0.189867  1.455469  1.421105  0.218006 -0.049338 -0.292599   \n",
       "\n",
       "   fM3Trans    fAlpha     fDist  \n",
       "0 -0.018409  1.586697  0.037657  "
      ]
     },
     "execution_count": 4,
     "metadata": {},
     "output_type": "execute_result"
    }
   ],
   "source": [
    "pd.DataFrame(data = Logit.coef_, columns = X.columns)"
   ]
  },
  {
   "cell_type": "markdown",
   "id": "c664cdda-de84-4025-a26c-e93e7c3075ae",
   "metadata": {},
   "source": [
    "Columns with Higher Coefficients are More Important (fLength, fSize, fConc, fAlpha). Others with low coefficient are less important."
   ]
  },
  {
   "cell_type": "code",
   "execution_count": 5,
   "id": "8b613f5a-4928-4478-ad86-fd9f087aee44",
   "metadata": {},
   "outputs": [
    {
     "name": "stdout",
     "output_type": "stream",
     "text": [
      "[[2292  201]\n",
      " [ 421  867]]\n",
      "              precision    recall  f1-score   support\n",
      "\n",
      "           g       0.84      0.92      0.88      2493\n",
      "           h       0.81      0.67      0.74      1288\n",
      "\n",
      "    accuracy                           0.84      3781\n",
      "   macro avg       0.83      0.80      0.81      3781\n",
      "weighted avg       0.83      0.84      0.83      3781\n",
      "\n"
     ]
    }
   ],
   "source": [
    "print(confusion_matrix(y_test, y_pred))\n",
    "print(classification_report(y_test, y_pred, target_names=Class))"
   ]
  },
  {
   "cell_type": "code",
   "execution_count": 6,
   "id": "c9656830-e920-41fc-8782-9c786e991605",
   "metadata": {},
   "outputs": [],
   "source": [
    "from sklearn import metrics"
   ]
  },
  {
   "cell_type": "code",
   "execution_count": 7,
   "id": "9d7c17e1-8b96-44d2-94fd-6c2d2fb6d34e",
   "metadata": {},
   "outputs": [],
   "source": [
    "fpr, tpr, _ = metrics.roc_curve(y_test,  Logit.predict_proba(X_test)[:,1])"
   ]
  },
  {
   "cell_type": "code",
   "execution_count": 8,
   "id": "051d735e-783b-4633-a329-69751ecc0772",
   "metadata": {},
   "outputs": [
    {
     "data": {
      "text/plain": [
       "0.8745026446721628"
      ]
     },
     "execution_count": 8,
     "metadata": {},
     "output_type": "execute_result"
    }
   ],
   "source": [
    "metrics.auc(fpr, tpr)"
   ]
  },
  {
   "cell_type": "code",
   "execution_count": 9,
   "id": "0e92a19e-f17c-4337-9d7e-72e35b253651",
   "metadata": {},
   "outputs": [],
   "source": [
    "from sklearn.metrics import accuracy_score"
   ]
  },
  {
   "cell_type": "code",
   "execution_count": 10,
   "id": "786fec4c-d27c-4ad6-9c64-2479b74867e0",
   "metadata": {},
   "outputs": [
    {
     "data": {
      "text/plain": [
       "0.8354932557524465"
      ]
     },
     "execution_count": 10,
     "metadata": {},
     "output_type": "execute_result"
    }
   ],
   "source": [
    "accuracy_score(y_test, y_pred)"
   ]
  },
  {
   "cell_type": "code",
   "execution_count": 11,
   "id": "72eca710-8f45-46b5-abbc-874db0ec1540",
   "metadata": {},
   "outputs": [],
   "source": [
    "auc_logit = pd.DataFrame(data = {\"fpr\":fpr,\"tpr\":tpr})"
   ]
  },
  {
   "cell_type": "code",
   "execution_count": 12,
   "id": "9bb3d58a-a177-42cf-96f2-4e3a7955229d",
   "metadata": {},
   "outputs": [
    {
     "data": {
      "image/png": "[encoded data removed]",
      "text/plain": [
       "<Figure size 1080x720 with 1 Axes>"
      ]
     },
     "metadata": {
      "needs_background": "light"
     },
     "output_type": "display_data"
    }
   ],
   "source": [
    "plt.figure(figsize = (15,10))\n",
    "plot = sns.lineplot(x='fpr', y='tpr', data=auc_logit).set(title='AUC ROC LOGIT')"
   ]
  },
  {
   "cell_type": "markdown",
   "id": "173b6a72-fd65-418c-ad4d-f6abb428eea8",
   "metadata": {},
   "source": [
    "# LDA"
   ]
  },
  {
   "cell_type": "code",
   "execution_count": 13,
   "id": "add64e0c-ede9-4e8d-9c67-235e30b7d944",
   "metadata": {},
   "outputs": [],
   "source": [
    "from sklearn.discriminant_analysis import LinearDiscriminantAnalysis"
   ]
  },
  {
   "cell_type": "code",
   "execution_count": 14,
   "id": "cfedba13-ba43-4f61-a4d2-62f6e9c42925",
   "metadata": {},
   "outputs": [],
   "source": [
    "LDA = LinearDiscriminantAnalysis()"
   ]
  },
  {
   "cell_type": "code",
   "execution_count": 15,
   "id": "1cacdc0d-4d03-40be-b9a8-644c11c56fa9",
   "metadata": {},
   "outputs": [],
   "source": [
    "LDA.fit(X_train, np.ravel(y_train))\n",
    "y_pred = LDA.predict(X_test)"
   ]
  },
  {
   "cell_type": "code",
   "execution_count": 16,
   "id": "54b30319-5b9f-4370-8002-ee4b0eb458d7",
   "metadata": {},
   "outputs": [
    {
     "name": "stdout",
     "output_type": "stream",
     "text": [
      "[[2290  203]\n",
      " [ 439  849]]\n",
      "              precision    recall  f1-score   support\n",
      "\n",
      "           g       0.84      0.92      0.88      2493\n",
      "           h       0.81      0.66      0.73      1288\n",
      "\n",
      "    accuracy                           0.83      3781\n",
      "   macro avg       0.82      0.79      0.80      3781\n",
      "weighted avg       0.83      0.83      0.83      3781\n",
      "\n"
     ]
    }
   ],
   "source": [
    "print(confusion_matrix(y_test, y_pred))\n",
    "print(classification_report(y_test, y_pred, target_names=Class))"
   ]
  },
  {
   "cell_type": "code",
   "execution_count": 17,
   "id": "455ff8a8-17a5-40bc-a60e-a43fd134c901",
   "metadata": {},
   "outputs": [],
   "source": [
    "fpr, tpr, _ = metrics.roc_curve(y_test,  LDA.predict_proba(X_test)[:,1])"
   ]
  },
  {
   "cell_type": "code",
   "execution_count": 18,
   "id": "8f833c31-e50c-42ad-b39f-097da34dfa8b",
   "metadata": {},
   "outputs": [
    {
     "data": {
      "text/plain": [
       "0.8740526268583089"
      ]
     },
     "execution_count": 18,
     "metadata": {},
     "output_type": "execute_result"
    }
   ],
   "source": [
    "metrics.auc(fpr, tpr)"
   ]
  },
  {
   "cell_type": "code",
   "execution_count": 19,
   "id": "1ae3dd59-12c1-4538-b96b-bee6771d1dca",
   "metadata": {},
   "outputs": [
    {
     "data": {
      "text/plain": [
       "0.8302036498280878"
      ]
     },
     "execution_count": 19,
     "metadata": {},
     "output_type": "execute_result"
    }
   ],
   "source": [
    "accuracy_score(y_test, y_pred)"
   ]
  },
  {
   "cell_type": "code",
   "execution_count": 20,
   "id": "7c05c4c4-ca16-49c3-94ec-3b4252e56adc",
   "metadata": {},
   "outputs": [],
   "source": [
    "auc_LDA = pd.DataFrame(data = {\"fpr\":fpr,\"tpr\":tpr})"
   ]
  },
  {
   "cell_type": "code",
   "execution_count": 21,
   "id": "1650af4d-4539-4ca9-8304-06d93c41d50a",
   "metadata": {},
   "outputs": [
    {
     "data": {
      "image/png": "[encoded data removed]",
      "text/plain": [
       "<Figure size 1080x720 with 1 Axes>"
      ]
     },
     "metadata": {
      "needs_background": "light"
     },
     "output_type": "display_data"
    }
   ],
   "source": [
    "plt.figure(figsize = (15,10))\n",
    "plot = sns.lineplot(x='fpr', y='tpr', data=auc_LDA).set(title='AUC ROC LDA')"
   ]
  },
  {
   "cell_type": "markdown",
   "id": "24610eab-0637-49f1-b797-c1486f64865d",
   "metadata": {},
   "source": [
    "# KNN"
   ]
  },
  {
   "cell_type": "code",
   "execution_count": 22,
   "id": "450e5457-1529-46a2-85e1-e8cb05083201",
   "metadata": {},
   "outputs": [],
   "source": [
    "from sklearn.neighbors import KNeighborsClassifier"
   ]
  },
  {
   "cell_type": "code",
   "execution_count": null,
   "id": "ae3c58a3-cfdd-4801-936c-86bf1690f0d4",
   "metadata": {
    "jupyter": {
     "source_hidden": true
    },
    "tags": []
   },
   "outputs": [],
   "source": [
    "from sklearn.model_selection import GridSearchCV\n",
    "from sklearn.metrics import make_scorer\n",
    "\n",
    "scoring = {\"AUC\": \"roc_auc\", \"Accuracy\": make_scorer(accuracy_score)}\n",
    "\n",
    "# Setting refit='AUC', refits an estimator on the whole dataset with the\n",
    "# parameter setting that has the best cross-validated AUC score.\n",
    "# That estimator is made available at ``gs.best_estimator_`` along with\n",
    "# parameters like ``gs.best_score_``, ``gs.best_params_`` and\n",
    "# ``gs.best_index_``\n",
    "gs = GridSearchCV(\n",
    "    KNeighborsClassifier(),\n",
    "    param_grid={\"n_neighbors\": range(1, 21), \"weights\":[\"uniform\",\"distance\"], \"p\":[1, 2]},\n",
    "    scoring=scoring,\n",
    "    refit=\"AUC\",\n",
    "    return_train_score=True,\n",
    "    n_jobs = -1,\n",
    "    cv = 10,\n",
    "    verbose = 3\n",
    ")\n",
    "gs.fit(X_train, np.ravel(y_train))\n",
    "results = gs.cv_results_"
   ]
  },
  {
   "cell_type": "code",
   "execution_count": null,
   "id": "4165c1f1-3b9d-4fdd-bcd0-6b366a4fca55",
   "metadata": {
    "jupyter": {
     "source_hidden": true
    },
    "tags": []
   },
   "outputs": [],
   "source": [
    "gs.best_params_"
   ]
  },
  {
   "cell_type": "code",
   "execution_count": 23,
   "id": "22ea27b7-5730-4d7b-8d6c-e9a61071607e",
   "metadata": {},
   "outputs": [],
   "source": [
    "KNN = KNeighborsClassifier(n_neighbors=20, p = 2, weights = \"distance\")\n",
    "KNN.fit(X_train, np.ravel(y_train))\n",
    "y_pred = KNN.predict(X_test)"
   ]
  },
  {
   "cell_type": "code",
   "execution_count": 24,
   "id": "ab9aa77f-6bf6-4fd0-b213-a3a073eb375c",
   "metadata": {},
   "outputs": [
    {
     "name": "stdout",
     "output_type": "stream",
     "text": [
      "[[2421   72]\n",
      " [ 457  831]]\n",
      "              precision    recall  f1-score   support\n",
      "\n",
      "           g       0.84      0.97      0.90      2493\n",
      "           h       0.92      0.65      0.76      1288\n",
      "\n",
      "    accuracy                           0.86      3781\n",
      "   macro avg       0.88      0.81      0.83      3781\n",
      "weighted avg       0.87      0.86      0.85      3781\n",
      "\n"
     ]
    }
   ],
   "source": [
    "print(confusion_matrix(y_test, y_pred))\n",
    "print(classification_report(y_test, y_pred, target_names=Class))"
   ]
  },
  {
   "cell_type": "code",
   "execution_count": 25,
   "id": "426ee42d-ffe7-4ed4-89aa-5b77d5d6faee",
   "metadata": {},
   "outputs": [],
   "source": [
    "fpr, tpr, _ = metrics.roc_curve(y_test,  KNN.predict_proba(X_test)[:,1])"
   ]
  },
  {
   "cell_type": "code",
   "execution_count": 26,
   "id": "434e3f53-8640-4b52-b0ef-ff1cf737636b",
   "metadata": {},
   "outputs": [
    {
     "data": {
      "text/plain": [
       "0.9197065447850254"
      ]
     },
     "execution_count": 26,
     "metadata": {},
     "output_type": "execute_result"
    }
   ],
   "source": [
    "metrics.auc(fpr, tpr)"
   ]
  },
  {
   "cell_type": "code",
   "execution_count": 27,
   "id": "722e7a67-b7bc-4ef3-8cf4-0f0b89c91f50",
   "metadata": {},
   "outputs": [
    {
     "data": {
      "text/plain": [
       "0.8600899233007141"
      ]
     },
     "execution_count": 27,
     "metadata": {},
     "output_type": "execute_result"
    }
   ],
   "source": [
    "accuracy_score(y_test, y_pred)"
   ]
  },
  {
   "cell_type": "code",
   "execution_count": 28,
   "id": "f4f5e94f-9557-4a1f-816e-a0fa3f05eef5",
   "metadata": {},
   "outputs": [],
   "source": [
    "auc_KNN = pd.DataFrame(data = {\"fpr\":fpr,\"tpr\":tpr})"
   ]
  },
  {
   "cell_type": "code",
   "execution_count": 29,
   "id": "b8744471-6d0c-4c0b-82f9-360f554e2b4e",
   "metadata": {},
   "outputs": [
    {
     "data": {
      "image/png": "[encoded data removed]",
      "text/plain": [
       "<Figure size 1080x720 with 1 Axes>"
      ]
     },
     "metadata": {
      "needs_background": "light"
     },
     "output_type": "display_data"
    }
   ],
   "source": [
    "plt.figure(figsize = (15,10))\n",
    "plot = sns.lineplot(x='fpr', y='tpr', data=auc_KNN).set(title='AUC ROC KNN')"
   ]
  },
  {
   "cell_type": "markdown",
   "id": "a1bbefa3-7f4e-4b1d-be06-b7d8c55e5bd0",
   "metadata": {},
   "source": [
    "# Linear SVM"
   ]
  },
  {
   "cell_type": "code",
   "execution_count": 30,
   "id": "190ec607-4a59-4cfa-9aa6-7e2a89c187c7",
   "metadata": {},
   "outputs": [],
   "source": [
    "from sklearn.svm import SVC"
   ]
  },
  {
   "cell_type": "code",
   "execution_count": null,
   "id": "45aff04d-442c-485c-a822-b203d8bcbce4",
   "metadata": {
    "jupyter": {
     "source_hidden": true
    },
    "tags": []
   },
   "outputs": [],
   "source": [
    "C_range = np.logspace(-2, 10, 13)\n",
    "param_grid = dict(C=C_range)"
   ]
  },
  {
   "cell_type": "code",
   "execution_count": null,
   "id": "6ba7e3b5-d656-46a8-ab16-bcabf022702f",
   "metadata": {
    "jupyter": {
     "source_hidden": true
    },
    "tags": []
   },
   "outputs": [],
   "source": [
    "from sklearn.model_selection import StratifiedShuffleSplit"
   ]
  },
  {
   "cell_type": "code",
   "execution_count": null,
   "id": "ef12aeaf-e6fe-4286-956a-a146394d56d9",
   "metadata": {
    "jupyter": {
     "source_hidden": true
    },
    "tags": []
   },
   "outputs": [],
   "source": [
    "cv = StratifiedShuffleSplit(n_splits=30, test_size=0.2, random_state=101)"
   ]
  },
  {
   "cell_type": "code",
   "execution_count": null,
   "id": "7e4f41ec-01c7-4846-bb9f-9a36dff42976",
   "metadata": {
    "jupyter": {
     "source_hidden": true
    },
    "tags": []
   },
   "outputs": [],
   "source": [
    "grid = GridSearchCV(SVC(kernel = \"linear\", max_iter=10000, probability=True), param_grid=param_grid, cv=cv, n_jobs = -1, verbose = 3)"
   ]
  },
  {
   "cell_type": "code",
   "execution_count": null,
   "id": "5f163c29-4461-4ff2-aaac-3a70841a867a",
   "metadata": {
    "jupyter": {
     "source_hidden": true
    },
    "tags": []
   },
   "outputs": [],
   "source": [
    "grid.fit(X_train, np.ravel(y_train))"
   ]
  },
  {
   "cell_type": "code",
   "execution_count": null,
   "id": "11e070f1-bf91-488b-9c08-3c3acb7eb04e",
   "metadata": {
    "jupyter": {
     "source_hidden": true
    },
    "tags": []
   },
   "outputs": [],
   "source": [
    "results = grid.cv_results_"
   ]
  },
  {
   "cell_type": "code",
   "execution_count": null,
   "id": "3bc2e8d4-5ce9-4bca-8192-9b1ff711c28d",
   "metadata": {
    "jupyter": {
     "source_hidden": true
    },
    "tags": []
   },
   "outputs": [],
   "source": [
    "grid.best_params_"
   ]
  },
  {
   "cell_type": "code",
   "execution_count": 31,
   "id": "ed02a3cf-c6fd-45f6-a11e-872197e4d550",
   "metadata": {},
   "outputs": [
    {
     "name": "stderr",
     "output_type": "stream",
     "text": [
      "C:\\Users\\matth\\anaconda3\\lib\\site-packages\\sklearn\\svm\\_base.py:255: ConvergenceWarning: Solver terminated early (max_iter=10000).  Consider pre-processing your data with StandardScaler or MinMaxScaler.\n",
      "  warnings.warn('Solver terminated early (max_iter=%i).'\n"
     ]
    }
   ],
   "source": [
    "LSVC = SVC(kernel = \"linear\", max_iter=10000, C = 0.1, probability = True)\n",
    "LSVC.fit(X_train, np.ravel(y_train))\n",
    "y_pred = LSVC.predict(X_test)"
   ]
  },
  {
   "cell_type": "code",
   "execution_count": 32,
   "id": "da32edb1-d2cd-49ff-abfd-3b1e3a42c043",
   "metadata": {},
   "outputs": [
    {
     "name": "stdout",
     "output_type": "stream",
     "text": [
      "[[2329  164]\n",
      " [ 450  838]]\n",
      "              precision    recall  f1-score   support\n",
      "\n",
      "           g       0.84      0.93      0.88      2493\n",
      "           h       0.84      0.65      0.73      1288\n",
      "\n",
      "    accuracy                           0.84      3781\n",
      "   macro avg       0.84      0.79      0.81      3781\n",
      "weighted avg       0.84      0.84      0.83      3781\n",
      "\n"
     ]
    }
   ],
   "source": [
    "print(confusion_matrix(y_test, y_pred))\n",
    "print(classification_report(y_test, y_pred, target_names=Class))"
   ]
  },
  {
   "cell_type": "code",
   "execution_count": 33,
   "id": "7d343044-2c8f-4d15-b93a-0dc95ec420ae",
   "metadata": {},
   "outputs": [],
   "source": [
    "fpr, tpr, _ = metrics.roc_curve(y_test,  LSVC.predict_proba(X_test)[:,1])"
   ]
  },
  {
   "cell_type": "code",
   "execution_count": 34,
   "id": "a7f5ea02-a551-4c2d-986b-fcd27802a94b",
   "metadata": {},
   "outputs": [
    {
     "data": {
      "text/plain": [
       "0.8726321900077983"
      ]
     },
     "execution_count": 34,
     "metadata": {},
     "output_type": "execute_result"
    }
   ],
   "source": [
    "metrics.auc(fpr, tpr)"
   ]
  },
  {
   "cell_type": "code",
   "execution_count": 35,
   "id": "c706a7a9-4241-40e7-9ea7-82f5a430da5f",
   "metadata": {},
   "outputs": [
    {
     "data": {
      "text/plain": [
       "0.8376090981221899"
      ]
     },
     "execution_count": 35,
     "metadata": {},
     "output_type": "execute_result"
    }
   ],
   "source": [
    "accuracy_score(y_test, y_pred)"
   ]
  },
  {
   "cell_type": "code",
   "execution_count": 36,
   "id": "7a71cd7e-37d2-46c7-8c97-f02ed98a7d1e",
   "metadata": {},
   "outputs": [],
   "source": [
    "auc_LSVC = pd.DataFrame(data = {\"fpr\":fpr,\"tpr\":tpr})"
   ]
  },
  {
   "cell_type": "code",
   "execution_count": 37,
   "id": "1b96ea93-bdc9-4635-ba2e-65fb12c7a167",
   "metadata": {},
   "outputs": [
    {
     "data": {
      "image/png": "[encoded data removed]",
      "text/plain": [
       "<Figure size 1080x720 with 1 Axes>"
      ]
     },
     "metadata": {
      "needs_background": "light"
     },
     "output_type": "display_data"
    }
   ],
   "source": [
    "plt.figure(figsize = (15,10))\n",
    "plot = sns.lineplot(x='fpr', y='tpr', data=auc_LSVC).set(title='AUC ROC LINEAR SVC')"
   ]
  },
  {
   "cell_type": "markdown",
   "id": "473aae7e-0fc4-4ae7-8d98-b208c7fd83c8",
   "metadata": {},
   "source": [
    "# Radial SVC"
   ]
  },
  {
   "cell_type": "code",
   "execution_count": null,
   "id": "6f37f076-c692-4cdc-979e-0b5e6e84d6d2",
   "metadata": {
    "jupyter": {
     "source_hidden": true
    },
    "tags": []
   },
   "outputs": [],
   "source": [
    "gamma_range = np.logspace(-9, 3, 13)\n",
    "param_grid = dict(gamma=gamma_range, C=C_range)\n",
    "cv = StratifiedShuffleSplit(n_splits=3, test_size=0.2, random_state=101)\n",
    "grid = GridSearchCV(SVC(probability = True), param_grid=param_grid, cv=cv, n_jobs = -1, verbose = 3)"
   ]
  },
  {
   "cell_type": "code",
   "execution_count": null,
   "id": "693db82d-6d3a-43e5-ba1f-6599ca711a91",
   "metadata": {
    "jupyter": {
     "source_hidden": true
    },
    "tags": []
   },
   "outputs": [],
   "source": [
    "grid.fit(X_train, np.ravel(y_train))"
   ]
  },
  {
   "cell_type": "code",
   "execution_count": null,
   "id": "2d6d10ca-ffac-4eae-afae-b87205936831",
   "metadata": {
    "jupyter": {
     "source_hidden": true
    },
    "tags": []
   },
   "outputs": [],
   "source": [
    "results = grid.cv_results_"
   ]
  },
  {
   "cell_type": "code",
   "execution_count": null,
   "id": "f03b5beb-286d-454f-8d13-2c05389fb033",
   "metadata": {
    "jupyter": {
     "source_hidden": true
    },
    "tags": []
   },
   "outputs": [],
   "source": [
    "grid.best_params_"
   ]
  },
  {
   "cell_type": "code",
   "execution_count": 38,
   "id": "d6cce93a-a143-4c59-9d75-db8c66381e65",
   "metadata": {},
   "outputs": [],
   "source": [
    "RSVC = SVC(C = 100, gamma = 0.1, probability = True)\n",
    "RSVC.fit(X_train, np.ravel(y_train))\n",
    "y_pred = RSVC.predict(X_test)"
   ]
  },
  {
   "cell_type": "code",
   "execution_count": 39,
   "id": "16baf2df-d811-4c91-8abe-a22e8d2c54b2",
   "metadata": {},
   "outputs": [
    {
     "name": "stdout",
     "output_type": "stream",
     "text": [
      "[[2389  104]\n",
      " [ 318  970]]\n",
      "              precision    recall  f1-score   support\n",
      "\n",
      "           g       0.88      0.96      0.92      2493\n",
      "           h       0.90      0.75      0.82      1288\n",
      "\n",
      "    accuracy                           0.89      3781\n",
      "   macro avg       0.89      0.86      0.87      3781\n",
      "weighted avg       0.89      0.89      0.89      3781\n",
      "\n"
     ]
    }
   ],
   "source": [
    "print(confusion_matrix(y_test, y_pred))\n",
    "print(classification_report(y_test, y_pred, target_names=Class))"
   ]
  },
  {
   "cell_type": "code",
   "execution_count": 40,
   "id": "e270e3be-c5e3-4a1e-b6d0-755ecccf1aef",
   "metadata": {},
   "outputs": [],
   "source": [
    "fpr, tpr, _ = metrics.roc_curve(y_test,  RSVC.predict_proba(X_test)[:,1])"
   ]
  },
  {
   "cell_type": "code",
   "execution_count": 41,
   "id": "a7206261-4236-46c6-aa28-aa9de6e2a560",
   "metadata": {},
   "outputs": [
    {
     "data": {
      "text/plain": [
       "0.9290217578162955"
      ]
     },
     "execution_count": 41,
     "metadata": {},
     "output_type": "execute_result"
    }
   ],
   "source": [
    "metrics.auc(fpr, tpr)"
   ]
  },
  {
   "cell_type": "code",
   "execution_count": 42,
   "id": "bd1c1159-5bb3-450a-a76d-04fe2df0eb70",
   "metadata": {},
   "outputs": [
    {
     "data": {
      "text/plain": [
       "0.8883893149960328"
      ]
     },
     "execution_count": 42,
     "metadata": {},
     "output_type": "execute_result"
    }
   ],
   "source": [
    "accuracy_score(y_test, y_pred)"
   ]
  },
  {
   "cell_type": "code",
   "execution_count": 43,
   "id": "59113552-bc63-46ee-a1c3-50fddb774354",
   "metadata": {},
   "outputs": [],
   "source": [
    "auc_RSVC = pd.DataFrame(data = {\"fpr\":fpr,\"tpr\":tpr})"
   ]
  },
  {
   "cell_type": "code",
   "execution_count": 44,
   "id": "8a5b78f5-e03d-4dfc-acf6-6a209600262c",
   "metadata": {},
   "outputs": [
    {
     "data": {
      "image/png": "[encoded data removed]",
      "text/plain": [
       "<Figure size 1080x720 with 1 Axes>"
      ]
     },
     "metadata": {
      "needs_background": "light"
     },
     "output_type": "display_data"
    }
   ],
   "source": [
    "plt.figure(figsize = (15,10))\n",
    "plot = sns.lineplot(x='fpr', y='tpr', data=auc_RSVC).set(title='AUC ROC RADIAL SVC')"
   ]
  }
 ],
 "metadata": {
  "kernelspec": {
   "display_name": "Python 3 (ipykernel)",
   "language": "python",
   "name": "python3"
  },
  "language_info": {
   "codemirror_mode": {
    "name": "ipython",
    "version": 3
   },
   "file_extension": ".py",
   "mimetype": "text/x-python",
   "name": "python",
   "nbconvert_exporter": "python",
   "pygments_lexer": "ipython3",
   "version": "3.9.7"
  }
 },
 "nbformat": 4,
 "nbformat_minor": 5
}
